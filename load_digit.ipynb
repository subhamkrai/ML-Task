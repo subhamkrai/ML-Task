{
 "cells": [
  {
   "cell_type": "code",
   "execution_count": null,
   "metadata": {},
   "outputs": [],
   "source": [
    "import matplotlib.pyplot as plt\n",
    "import matplotlib.image as img\n",
    "from sklear.datasets import load_digit\n",
    "digit=load_digits()\n",
    "digit_data=digit.data\n",
    "#dir(load_digits)\n",
    "#digit_data\n",
    "digit_target=digit.target\n",
    "#digit_target\n",
    "zero=digit_data[0]\n",
    "#zero\n",
    "# zero.shape\n",
    "new_zero=zero.reshape(8,8)\n",
    " plt.imshow(new_zero)\n"
   ]
  }
 ],
 "metadata": {
  "kernelspec": {
   "display_name": "Python 3",
   "language": "python",
   "name": "python3"
  },
  "language_info": {
   "codemirror_mode": {
    "name": "ipython",
    "version": 3
   },
   "file_extension": ".py",
   "mimetype": "text/x-python",
   "name": "python",
   "nbconvert_exporter": "python",
   "pygments_lexer": "ipython3",
   "version": "3.5.2"
  }
 },
 "nbformat": 4,
 "nbformat_minor": 2
}
